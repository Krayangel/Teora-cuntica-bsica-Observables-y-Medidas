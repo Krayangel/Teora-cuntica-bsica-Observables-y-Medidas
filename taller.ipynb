{
 "cells": [
  {
   "cell_type": "markdown",
   "metadata": {},
   "source": [
    "# SIMULE EL PRIMER SISTEMA CUÁNTICO NUEVO DESCRITO EN LA SECCIÓN 4.1.\n",
    "## El sistema consiste en una partícula confinada a un conjunto discreto de posiciones en una línea. El simulador debe permitir especificar el número de posiciones y un vector ket de estado asignando las amplitudes.\n",
    "### 1.\n",
    "### RTA:\n",
    "\n"
   ]
  },
  {
   "cell_type": "code",
   "execution_count": 1,
   "metadata": {},
   "outputs": [
    {
     "name": "stdout",
     "output_type": "stream",
     "text": [
      "Punto 1:\n",
      "La probabilidad en la posición  0 es de: 0.0008183306055646482 %\n"
     ]
    }
   ],
   "source": [
    "import numpy as np\n",
    "from sys import stdin\n",
    "arreglo = np.array([1, 2, 34, 5, 6])\n",
    "indice = 0\n",
    "valor_numerador = np.abs(arreglo[indice])**2\n",
    "valor_denominador = np.linalg.norm(arreglo)**2\n",
    "if valor_denominador == 0:\n",
    "    raise ValueError(\"Error por división por 0\")\n",
    "resultado = (valor_numerador / valor_denominador).item()\n",
    "print(\"Punto 1:\\nLa probabilidad en la posición \", indice, \"es de:\", resultado, \"%\")\n"
   ]
  },
  {
   "cell_type": "markdown",
   "metadata": {},
   "source": [
    "### 2. \n",
    "### RTA:"
   ]
  },
  {
   "cell_type": "code",
   "execution_count": null,
   "metadata": {},
   "outputs": [],
   "source": [
    "\n",
    "import numpy as np\n",
    "\n",
    "vector_a = np.array([1, 2, 3, 4, 5, 6])\n",
    "indice = 2\n",
    "\n",
    "vector_b = np.array([(0 if i != indice else vector_a[i].item()) for i in range(len(vector_a))])\n",
    "print(\"Punto 2:\\nPrimer vector:\", vector_a, \"\\nSegundo vector\", vector_b)\n",
    "\n",
    "vector_a = vector_a / np.linalg.norm(vector_a)\n",
    "vector_b = vector_b / np.linalg.norm(vector_b)\n",
    "\n",
    "producto_punto = np.vdot(vector_b, vector_a)\n",
    "probabilidad = (np.abs(producto_punto))**2\n",
    "resultado = probabilidad.item()\n",
    "\n",
    "print(\"La probabilidad de transitar del primer vector al segundo es de:\", resultado, \"%\")\n"
   ]
  },
  {
   "cell_type": "markdown",
   "metadata": {},
   "source": [
    "# COMPLETE LOS RETOS DE PROGRAMACIÓN DEL CAPÍTULO 4.\n",
    "### 1.\n",
    "### RTA:"
   ]
  },
  {
   "cell_type": "code",
   "execution_count": null,
   "metadata": {},
   "outputs": [],
   "source": [
    "import numpy as np\n",
    "\n",
    "v_inicial = np.array([1, 0, 0])  # Vector inicial\n",
    "v_final = np.array([0, 0, 1]) # Vector final\n",
    "# Producto interno\n",
    "transicion = np.dot(v_final.conj(), v_inicial)\n",
    "    \n",
    "# ´Probabilidad de transicion luego de la observacion\n",
    "probabilidad_transicion = np.abs(transicion)**2\n",
    "    \n",
    "print(\"La probabilidad de transición es:\", probabilidad_transicion)"
   ]
  },
  {
   "cell_type": "markdown",
   "metadata": {},
   "source": [
    "### 2.\n",
    "### RTA:"
   ]
  },
  {
   "cell_type": "code",
   "execution_count": null,
   "metadata": {},
   "outputs": [],
   "source": [
    "import numpy as np\n",
    "\n",
    "def calcular_media_varianza(observable, estado):\n",
    "    if not np.allclose(observable, observable.conj().T):\n",
    "        return \"La matriz observable no es hermítica\"\n",
    "\n",
    "    # Media\n",
    "    media = np.dot(estado.conj().T, np.dot(observable, estado)).real\n",
    "\n",
    "    # Varianza\n",
    "    estado_con_observable = np.dot(observable, estado)\n",
    "    varianza = np.dot(estado.conj().T, np.dot(observable, estado_con_observable)).real - media ** 2\n",
    "\n",
    "    return media, varianza\n",
    "\n",
    "# Matriz observable hermítica y vector ket\n",
    "observable = np.array([[1, 1j], [-1j, 2]])  \n",
    "estado = np.array([np.sqrt(2)/2, np.sqrt(2)/2j])\n",
    "\n",
    "# Cálculo de media y varianza\n",
    "media, varianza = calcular_media_varianza(observable, estado)\n",
    "\n",
    "print(\"La media del observable:\", media.item())\n",
    "print(\"La varianza del observable:\", varianza.item())\n"
   ]
  },
  {
   "cell_type": "markdown",
   "metadata": {},
   "source": [
    "### 3.\n",
    "### RTA:"
   ]
  },
  {
   "cell_type": "code",
   "execution_count": null,
   "metadata": {},
   "outputs": [],
   "source": [
    "import numpy as np\n",
    "\n",
    "def calcular_probabilidad_transicion(observable, estado):\n",
    "    # Calcula los valores y vectores propios de la matriz observable\n",
    "    valores_propios, vectores_propios = np.linalg.eig(observable)\n",
    "\n",
    "    # Calcula las probabilidades de transición a los vectores propios\n",
    "    probabilidades_transicion = np.abs(np.dot(vectores_propios.conj().T, estado)) ** 2\n",
    "\n",
    "    return valores_propios, probabilidades_transicion\n",
    "\n",
    "# Datos\n",
    "observable = np.array([[1, 0], [0, -1]])  # Ejemplo de matriz observable hermítica\n",
    "estado = np.array([[1], [0]])  # Ejemplo de vector ket\n",
    "\n",
    "valores_propios, probabilidades_transicion = calcular_probabilidad_transicion(observable, estado)\n",
    "print(\"Valores propios del observable:\", valores_propios)\n",
    "print(\"Probabilidades de transición a los vectores propios:\", probabilidades_transicion)\n",
    "\n"
   ]
  },
  {
   "cell_type": "markdown",
   "metadata": {},
   "source": [
    "### 4. \n",
    "### RTA:"
   ]
  },
  {
   "cell_type": "code",
   "execution_count": 2,
   "metadata": {},
   "outputs": [
    {
     "name": "stdout",
     "output_type": "stream",
     "text": [
      "El estado final del sistema es: [0 1]\n"
     ]
    }
   ],
   "source": [
    "import numpy as np\n",
    "\n",
    "def calcular_estado_final(estado_inicial, matrices_unitarias):\n",
    "    estado_actual = estado_inicial\n",
    "    for matriz_unitaria in matrices_unitarias:\n",
    "        estado_actual = np.dot(matriz_unitaria, estado_actual)\n",
    "    return estado_actual\n",
    "\n",
    "# datos\n",
    "estado_inicial = np.array([1, 0])  \n",
    "matrices_unitarias = [np.array([[0, 1], [1, 0]]), \n",
    "                      np.array([[1, 0], [0, 1]])]\n",
    "\n",
    "estado_final = calcular_estado_final(estado_inicial, matrices_unitarias)\n",
    "print(\"El estado final del sistema es:\", estado_final)\n"
   ]
  },
  {
   "cell_type": "markdown",
   "metadata": {},
   "source": [
    "# REALICE LOS SIGUIENTES PROBLEMAS E INCLUYALOS COMO EJEMPLOS\n",
    "### Modele en su librería los problemas:\n",
    "\n",
    "#### 4.3.1\n",
    "### RTA:"
   ]
  },
  {
   "cell_type": "code",
   "execution_count": null,
   "metadata": {},
   "outputs": [],
   "source": [
    "import numpy as np\n",
    "\n",
    "# inicial\n",
    "estado_inicial = np.array([1, 0])\n",
    "\n",
    "# Matriz del operador Sx \n",
    "Sx = np.array([[0, 1], [1, 0]])\n",
    "\n",
    "# Aplicación del operador Sx al estado inicial\n",
    "estado_resultante = np.dot(Sx, estado_inicial)\n",
    "\n",
    "# Cálculo de la probabilidad de spin up y spin down\n",
    "probabilidad_spin_up = abs(estado_resultante[0])**2\n",
    "probabilidad_spin_down = abs(estado_resultante[1])**2\n",
    "\n",
    "print(\"Probabilidad de transición en spin up:\", probabilidad_spin_up)\n",
    "print(\"Probabilidad de transición en spin down:\", probabilidad_spin_down)\n",
    "\n"
   ]
  },
  {
   "cell_type": "markdown",
   "metadata": {},
   "source": [
    "#### 4.3.2\n",
    "### RTA:"
   ]
  },
  {
   "cell_type": "code",
   "execution_count": null,
   "metadata": {},
   "outputs": [],
   "source": [
    "import numpy as np\n",
    "import matplotlib.pyplot as plt\n",
    "\n",
    "# inicial\n",
    "estado_inicial = np.array([1, 0])\n",
    "\n",
    "# Operador Sy \n",
    "Sy = np.array([[0, 1], [1, 0]])\n",
    "\n",
    "# Aplicación del operador Sy al estado inicial\n",
    "estado_resultante = np.dot(Sy, estado_inicial)\n",
    "\n",
    "# Cálculo de la probabilidad de spin up y spin down\n",
    "probabilidad_spin_up = abs(estado_resultante[0])**2\n",
    "probabilidad_spin_down = abs(estado_resultante[1])**2\n",
    "\n",
    "print(\"Probabilidad de transición en spin up:\", probabilidad_spin_up)\n",
    "print(\"Probabilidad de transición en spin down:\", probabilidad_spin_down)\n",
    "\n",
    "# Cálculo de los valores propios del operador Sy\n",
    "valores_propios, _ = np.linalg.eig(Sy)\n",
    "\n",
    "# Gráfico de la distribución de probabilidad\n",
    "plt.bar(np.arange(len(valores_propios)), abs(estado_resultante)**2)\n",
    "plt.xticks(np.arange(len(valores_propios)), valores_propios)\n",
    "plt.xlabel('Valores propios')\n",
    "plt.ylabel('Probabilidad')\n",
    "plt.title('Distribución de probabilidad para los valores propios')\n",
    "plt.show()\n",
    "\n"
   ]
  },
  {
   "cell_type": "markdown",
   "metadata": {},
   "source": [
    "### 4.4.1\n",
    "### Verify that\n",
    "$ U_1= \\begin{pmatrix} 0 & 1 \\\\ 1 & 0 \\\\ \\end{pmatrix}and...U_2= \\begin{pmatrix}  \\frac{\\sqrt{2}}{2} & \\frac{\\sqrt{2}}{2} \\\\ \\frac{\\sqrt{2}}{2} & -\\frac{\\sqrt{2}}{2} \\\\ \\end{pmatrix} $\n",
    "\n",
    "### are unitary matrices. Multiply them and verify that their product is also unitary.\n",
    "### RTA:"
   ]
  },
  {
   "cell_type": "code",
   "execution_count": null,
   "metadata": {},
   "outputs": [],
   "source": [
    "import numpy as np\n",
    "\n",
    "U1 = np.array([[0, 1], [1, 0]])\n",
    "U2 = np.array([[np.sqrt(2)/2, np.sqrt(2)/2], [np.sqrt(2)/2, -np.sqrt(2)/2]])\n",
    "\n",
    "# Verificación de unitariedad de U1\n",
    "unitaria_U1 = \"es\" if np.allclose(np.dot(U1.conj().T, U1), np.eye(2)) else \"no es\"\n",
    "\n",
    "# Verificación de unitariedad de U2\n",
    "unitaria_U2 = \"es\" if np.allclose(np.dot(U2.conj().T, U2), np.eye(2)) else \"no es\"\n",
    "\n",
    "# Producto de U1 y U2\n",
    "producto_U1_U2 = np.dot(U1, U2)\n",
    "\n",
    "# Verificación de unitariedad del producto\n",
    "producto_unitario = \"es\" if np.allclose(np.dot(producto_U1_U2.conj().T, producto_U1_U2), np.eye(2)) else \"no es\"\n",
    "\n",
    "print(\"U1\", unitaria_U1, \"unitaria\")\n",
    "print(\"U2\", unitaria_U2, \"unitaria\")\n",
    "print(\"El producto de U1 y U2\", producto_unitario, \"unitario\")\n"
   ]
  },
  {
   "cell_type": "markdown",
   "metadata": {},
   "source": [
    "### 4.4.2\n",
    "#### Regresa al Ejemplo 3.3.2 (bola de billar cuántica), mantén el mismo vector de estado inicial [1, 0, 0, 0]T, pero cambia el mapa unitario a\n",
    "\n",
    "\\begin{pmatrix} 0 & \\frac{1}{\\sqrt{2}}   & \\frac{1}{\\sqrt{2}}  & 0 \\\\ \n",
    "\\frac{i}{\\sqrt{2}} & 0  & 0 & \\frac{1}{\\sqrt{2}} \\\\ \n",
    "\\frac{1}{\\sqrt{2}} & 0  & 0 & \\frac{i}{\\sqrt{2}} \\\\ \n",
    "0 & \\frac{1}{\\sqrt{2}} & -\\frac{1}{\\sqrt{2}} & 0 \\\\ \n",
    "\\end{pmatrix}\n",
    "\n",
    "#### Determina el estado del sistema después de tres pasos de tiempo. ¿Cuál es la probabilidad de que se encuentre la bola cuántica en el punto 3?\n",
    "\n",
    "### RTA:"
   ]
  },
  {
   "cell_type": "code",
   "execution_count": null,
   "metadata": {},
   "outputs": [],
   "source": [
    "import numpy as np\n",
    "\n",
    "# Mapa\n",
    "mapa = np.array([\n",
    "    [0, 1/np.sqrt(2), 1/np.sqrt(2), 0],\n",
    "    [1j/np.sqrt(2), 0, 0, 1/np.sqrt(2)],\n",
    "    [1/np.sqrt(2), 0, 0, 1j/np.sqrt(2)],\n",
    "    [0, 1/np.sqrt(2), -1/np.sqrt(2), 0]\n",
    "])\n",
    "\n",
    "estado_inicial = np.array([1, 0, 0, 0])\n",
    "\n",
    "# Aplicar el mapa 3 veces\n",
    "estado_final = np.linalg.matrix_power(mapa, 3) @ estado_inicial\n",
    "\n",
    "# Calcular probabilidad\n",
    "probabilidad_punto = np.abs(estado_final[2])**2\n",
    "\n",
    "print(\"El estado del sistema después de 3 tiempos es:\", estado_final)\n",
    "print(\"Probabilidad de encontrar la bola cuántica en el punto 3:\", probabilidad_punto)\n",
    "\n"
   ]
  },
  {
   "cell_type": "markdown",
   "metadata": {},
   "source": [
    "#### 4.5.2 \n",
    "##### Escribe el vector de estado genérico para el sistema de dos partículas con espín. Generalízalo a un sistema con n partículas (esto es importante: ¡será la realización física para registros cuánticos!).\n",
    "#### RTA:\n",
    "##### El vector de estado genérico para el sistema de dos partículas con espín, denotado como  ∣Ψ⟩, es el producto tensorial de los vectores de estado individuales:\n",
    "$ |\\Psi\\rangle = |\\psi_1\\rangle \\otimes |\\psi_2\\rangle $\n",
    "##### Para generalizar este concepto a un sistema con n partículas, podemos extender el producto tensorial para incluir todos los n vectores de estado individuales:\n",
    "$ |\\Psi\\rangle = |\\psi_1\\rangle \\otimes |\\psi_2\\rangle \\otimes \\ldots \\otimes |\\psi_n\\rangle$"
   ]
  },
  {
   "cell_type": "markdown",
   "metadata": {},
   "source": [
    "### 4.5.3\n",
    "#### Supón el mismo escenario que en el Ejemplo 4.5.2 y deja\n",
    "$ |\\alpha\\rangle \\otimes |\\beta\\rangle = (a|x_0\\rangle + b|x_1\\rangle) \\otimes (c|y_0\\rangle + d|y_1\\rangle) $\n",
    "#### ¿Es este estado separable?\n",
    "#### RTA:\n",
    "##### Teniendo ∣ϕ⟩  en terminos de estado de la base:\n",
    "$|\\phi\\rangle = |x_0\\rangle \\otimes |y_1\\rangle + |x_1\\rangle \\otimes |y_1\\rangle$\n",
    "\n",
    "##### Intentamos expresar esto como un producto tensorial de dos estados. Buscaremos estados ∣α⟩ y ∣β⟩ tales que:\n",
    "$ |\\alpha\\rangle \\otimes |\\beta\\rangle = (a|x_0\\rangle + b|x_1\\rangle) \\otimes (c|y_0\\rangle + d|y_1\\rangle) $\n",
    "##### Expandiendo el producto tensorial, obtenemos:\n",
    "$ |\\alpha\\rangle \\otimes |\\beta\\rangle = ac|x_0\\rangle \\otimes |y_0\\rangle + ad|x_0\\rangle \\otimes |y_1\\rangle + bc|x_1\\rangle \\otimes |y_0\\rangle + bd|x_1\\rangle \\otimes |y_1\\rangle $\n",
    "\n",
    "##### Comparando esto con la expresión para ∣ϕ⟩, podemos ver que es imposible encontrar coeficientes a, b, c y d de manera que las dos expresiones sean iguales. \n",
    "##### En conclusión el estado ∣ϕ⟩ dado por la Ecuación no es separable. Está entrelazado.\n",
    "\n"
   ]
  }
 ],
 "metadata": {
  "kernelspec": {
   "display_name": "Python 3",
   "language": "python",
   "name": "python3"
  },
  "language_info": {
   "codemirror_mode": {
    "name": "ipython",
    "version": 3
   },
   "file_extension": ".py",
   "mimetype": "text/x-python",
   "name": "python",
   "nbconvert_exporter": "python",
   "pygments_lexer": "ipython3",
   "version": "3.13.0"
  }
 },
 "nbformat": 4,
 "nbformat_minor": 2
}
